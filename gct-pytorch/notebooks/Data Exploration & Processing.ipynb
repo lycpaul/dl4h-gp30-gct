{
 "cells": [
  {
   "cell_type": "code",
   "execution_count": 1,
   "metadata": {},
   "outputs": [],
   "source": [
    "import pandas as pd\n",
    "import pickle\n",
    "import os"
   ]
  },
  {
   "cell_type": "markdown",
   "metadata": {},
   "source": [
    "You need to download 4 csv files: admissionDx, diagnosis, patient and treatment.\n",
    "\n",
    "We removed some outputs since this code is publicly accesible."
   ]
  },
  {
   "cell_type": "code",
   "execution_count": 2,
   "metadata": {},
   "outputs": [],
   "source": [
    "admission = pd.read_csv(\"eicu_samples/admissionDx.csv\")\n",
    "diagnosis = pd.read_csv(\"eicu_samples/diagnosis.csv\")\n",
    "patient = pd.read_csv(\"eicu_samples/patient.csv\")\n",
    "treatment = pd.read_csv(\"eicu_samples/treatment.csv\")"
   ]
  },
  {
   "attachments": {},
   "cell_type": "markdown",
   "metadata": {},
   "source": [
    "### AdmissionDx Data Exploration\n",
    "> contains the primary diagnosis for admission to the ICU per the APACHE scoring criteria"
   ]
  },
  {
   "cell_type": "code",
   "execution_count": null,
   "metadata": {},
   "outputs": [],
   "source": [
    "admission.head(5)\n",
    "# admissiondxid : PK, id\n",
    "# patientunitstayid : FK, connected to Patient\n",
    "# admitdxenteredoffset : number of minutes from unit admit time that the admission diagnosis was entered\n",
    "# admitdxpath: admission diagnosis' item’s full path e.g.: admission diagnosis\n",
    "# admitdxname: admission diagnosis' item’s full name e.g.: Angina, stable (asymp or stable pattern of symptoms w/meds)\n",
    "# admitdxtext: admission diagnosis amplifying value e.g.: 42, 50"
   ]
  },
  {
   "cell_type": "code",
   "execution_count": null,
   "metadata": {},
   "outputs": [],
   "source": [
    "pd.options.display.float_format = '{:,.0f}'.format\n",
    "admission.describe()"
   ]
  },
  {
   "cell_type": "markdown",
   "metadata": {},
   "source": [
    "admitdxpath will be parsed and be training data of GCT."
   ]
  },
  {
   "cell_type": "code",
   "execution_count": 5,
   "metadata": {},
   "outputs": [
    {
     "name": "stdout",
     "output_type": "stream",
     "text": [
      "admission diagnosis|Operative Organ Systems|Organ System|Cardiovascular\n",
      "admission diagnosis|Was the patient admitted from the O.R. or went to the O.R. within 4 hours of admission?|Yes\n"
     ]
    }
   ],
   "source": [
    "print(admission.iloc[0]['admitdxpath'])\n",
    "print(admission.iloc[1]['admitdxpath']) # admitdxpath value has a question as well"
   ]
  },
  {
   "attachments": {},
   "cell_type": "markdown",
   "metadata": {},
   "source": [
    "### Diagnosis Data Exploration\n",
    "> Patient diagnosis recorded in the active diagnosis table. Sequence does indicate relative severity. diagnosisPriority is not required."
   ]
  },
  {
   "cell_type": "code",
   "execution_count": null,
   "metadata": {},
   "outputs": [],
   "source": [
    "diagnosis.head()\n",
    "# patientunitstayid: FK\n",
    "# diagnosisid: PK\n",
    "# activeupondischarge: denotes whether the diagnosis was active upon discharge from the unit: True or False\n",
    "# diagnosisoffset: number of minutes from unit admit time that the diagnosis was entered\n",
    "# diagnosisstring: the full pathstring of the diagnosis selected in eCareManager, the sections of the diagnosis will be separated by |\n",
    "# icd9code: ICD-9 code for the diagnosis e.g.: 518.81, 537.9, 491.20, etc.\n",
    "# diagnosispriority: picklist value which denotes whether the diagnosis was marked as: Primary, Major, or Other"
   ]
  },
  {
   "cell_type": "code",
   "execution_count": null,
   "metadata": {},
   "outputs": [],
   "source": [
    "diagnosis.describe()"
   ]
  },
  {
   "cell_type": "markdown",
   "metadata": {},
   "source": [
    "diagnosisstring will be parsed and be training data of GCT."
   ]
  },
  {
   "cell_type": "code",
   "execution_count": 10,
   "metadata": {},
   "outputs": [
    {
     "name": "stdout",
     "output_type": "stream",
     "text": [
      "cardiovascular|chest pain / ASHD|coronary artery disease|known\n",
      "renal|disorder of kidney|chronic kidney disease\n"
     ]
    }
   ],
   "source": [
    "print(diagnosis['diagnosisstring'].iloc[0])\n",
    "print(diagnosis['diagnosisstring'].iloc[10])"
   ]
  },
  {
   "attachments": {},
   "cell_type": "markdown",
   "metadata": {},
   "source": [
    "### Patient Data Exploration\n",
    "> Contains patient demographics and admission and discharge details for hospital and ICU stays.\n",
    ">\n",
    "> type: admission, unit, discharge"
   ]
  },
  {
   "cell_type": "code",
   "execution_count": null,
   "metadata": {},
   "outputs": [],
   "source": [
    "patient.head()\n",
    "# patientunitstayid # ICU Stay\n",
    "# patienthealthsystemstayid: patient health system stay (hospital stay)\n",
    "# gender: Male, Female, Unknown, Other, NULL\n",
    "# age: age of the patient in full years. If the patient is over 89 years old specify “> 89” e.g.: 79, 36, 52, “> 89”, etc.\n",
    "# ethnicity: Asian, Caucasian, African American, Native American, Hispanic, Other/Unknown, NUL\n",
    "# hospitalid: hospital associated with the patient unit stay\n",
    "# wardid: associated ward ID\n",
    "# apacheadmissiondx: Full path string of admission diagnosis for patients unit stay e.g.: Pulmonary valve surgery, etc.\n",
    "# admissionheight: admission height of the patient in cm e.g.: 160.0000, 182.9000, 175.3000, etc.\n",
    "# hospitaladmittime24: time in 24 hour format of the hospital admit e.g.: “12:45”, “15:30”, “3:45”\t\n",
    "# hospitalAdmitOffset: number of minutes from unit admit time that the patient was admitted to the hospital\n",
    "# hospitalAdmitSource: location from where the patient was admitted to the hospital e.g.: Direct Admit, Floor, Chest Pain Center. etc.\n",
    "# hospitalDischargeYear: year of the hospital discharge date\n",
    "# hospitaldischargetime24\n",
    "# hospitaldischargeoffset: number of minutes from unit admit time that the patient was discharged from the hospital\n",
    "# hospitaldischargelocation: Structured list of location where the patient was discharged to from the hospital e.g.: Home, Nursing Home, Death, etc.\n",
    "# hospitaldischargestatus: specifies patient’s condition upon leaving the hospital: Alive, Expired, or NULL\n",
    "# unittype: the picklist unit type of the unit e.g.: MICU, Cardiovascular ICUCU...\n",
    "# unitadmittime24: time in 24 hour format of when the unit admit event occurred e.g.: “12:45”, “15:30”, “3:45”\n",
    "# unitadmitsource: picklist location from where the patient was admitted e.g.: Emergency Room, Recovery Room, Direct Admit, etc.\n",
    "# unitvisitnumber: identifies the visit number of the patient, i.e. if the patient’s hospital stay has multiple unit stays\n",
    "# unitstaytype: patient’s unit stay type: stepdown/other, readmit for undo, admit, pre-admit, transfer, readmit\n",
    "# admissionweight: admission weight of the patient in kilograms e.g.: 69.7000, 70.9000, 173.0000, etc.\n",
    "# dischrageweight: patient weight at time of unit discharge in kilograms e.g.: 69.7000, 70.9000, 173.0000, etc.\n",
    "# unitdischargetime24: time in 24 hour format of when the unit discharge event occurred e.g.: “12:45”, “15:30”, “3:45”\n",
    "# unitdischargeoffset: number of minutes from unit admit time that the patient was discharged from the unit\n",
    "# unitdischargelocation: Structured list of locations where the patient was discharged to from the unit\n",
    "# unitdischargestatus: specifies patient’s condition upon leaving the unit: Alive, Expired, or NULL\n",
    "# uniquepid: ID for a unique patient."
   ]
  },
  {
   "attachments": {},
   "cell_type": "markdown",
   "metadata": {},
   "source": [
    "##### Patient Data Visualization"
   ]
  },
  {
   "cell_type": "code",
   "execution_count": 15,
   "metadata": {},
   "outputs": [
    {
     "data": {
      "image/png": "[encoded data removed]",
      "text/plain": [
       "<Figure size 640x480 with 1 Axes>"
      ]
     },
     "metadata": {},
     "output_type": "display_data"
    }
   ],
   "source": [
    "import seaborn as sns\n",
    "import matplotlib.pyplot as plt\n",
    "\n",
    "gender_counts = patient['gender'].value_counts()\n",
    "ethnicity_counts = patient['ethnicity'].value_counts()\n",
    "admission_height_mean = patient['admissionheight'].mean()\n",
    "admission_height_std = patient['admissionheight'].std()\n",
    "\n",
    "# Plot gender counts as a bar chart\n",
    "sns.countplot(x='gender', data=patient)\n",
    "plt.title(\"Gender Counts\")\n",
    "plt.xlabel(\"Gender\")\n",
    "plt.ylabel(\"Count\")\n",
    "plt.show()"
   ]
  },
  {
   "cell_type": "code",
   "execution_count": 16,
   "metadata": {},
   "outputs": [
    {
     "data": {
      "image/png": "[encoded data removed]",
      "text/plain": [
       "<Figure size 600x400 with 1 Axes>"
      ]
     },
     "metadata": {},
     "output_type": "display_data"
    }
   ],
   "source": [
    "# Plot ethnicity counts as a pie chart\n",
    "plt.figure(figsize=(6, 4))\n",
    "plt.pie(ethnicity_counts.values, labels=ethnicity_counts.index, autopct='%1.1f%%')\n",
    "plt.title(\"Ethnicity Counts\")\n",
    "plt.show()"
   ]
  },
  {
   "cell_type": "code",
   "execution_count": 17,
   "metadata": {},
   "outputs": [
    {
     "data": {
      "image/png": "[encoded data removed]",
      "text/plain": [
       "<Figure size 600x400 with 1 Axes>"
      ]
     },
     "metadata": {},
     "output_type": "display_data"
    }
   ],
   "source": [
    "# Plot admission height distribution as a histogram\n",
    "plt.figure(figsize=(6, 4))\n",
    "plt.hist(patient['admissionheight'], bins=20, range=(150, 200))\n",
    "plt.axvline(admission_height_mean, color='red', linestyle='dashed', linewidth=1)\n",
    "plt.axvline(admission_height_mean + admission_height_std, color='red', linestyle='dashed', linewidth=1)\n",
    "plt.axvline(admission_height_mean - admission_height_std, color='red', linestyle='dashed', linewidth=1)\n",
    "plt.title(\"Admission Height Distribution\")\n",
    "plt.xlabel(\"Height\")\n",
    "plt.ylabel(\"Count\")\n",
    "plt.show()"
   ]
  },
  {
   "attachments": {},
   "cell_type": "markdown",
   "metadata": {},
   "source": [
    "### Treatment Data Exploration\n",
    "> "
   ]
  },
  {
   "cell_type": "code",
   "execution_count": 18,
   "metadata": {},
   "outputs": [
    {
     "data": {
      "text/html": [
       "<div>\n",
       "<style scoped>\n",
       "    .dataframe tbody tr th:only-of-type {\n",
       "        vertical-align: middle;\n",
       "    }\n",
       "\n",
       "    .dataframe tbody tr th {\n",
       "        vertical-align: top;\n",
       "    }\n",
       "\n",
       "    .dataframe thead th {\n",
       "        text-align: right;\n",
       "    }\n",
       "</style>\n",
       "<table border=\"1\" class=\"dataframe\">\n",
       "  <thead>\n",
       "    <tr style=\"text-align: right;\">\n",
       "      <th></th>\n",
       "      <th>treatmentid</th>\n",
       "      <th>patientunitstayid</th>\n",
       "      <th>treatmentoffset</th>\n",
       "      <th>treatmentstring</th>\n",
       "      <th>activeupondischarge</th>\n",
       "    </tr>\n",
       "  </thead>\n",
       "  <tbody>\n",
       "    <tr>\n",
       "      <th>0</th>\n",
       "      <td>8399138</td>\n",
       "      <td>242040</td>\n",
       "      <td>198</td>\n",
       "      <td>cardiovascular|hypertension|angiotensin II rec...</td>\n",
       "      <td>False</td>\n",
       "    </tr>\n",
       "    <tr>\n",
       "      <th>1</th>\n",
       "      <td>8626134</td>\n",
       "      <td>242040</td>\n",
       "      <td>198</td>\n",
       "      <td>cardiovascular|myocardial ischemia / infarctio...</td>\n",
       "      <td>False</td>\n",
       "    </tr>\n",
       "    <tr>\n",
       "      <th>2</th>\n",
       "      <td>8517569</td>\n",
       "      <td>242040</td>\n",
       "      <td>198</td>\n",
       "      <td>infectious diseases|medications|therapeutic an...</td>\n",
       "      <td>False</td>\n",
       "    </tr>\n",
       "    <tr>\n",
       "      <th>3</th>\n",
       "      <td>9597686</td>\n",
       "      <td>242040</td>\n",
       "      <td>616</td>\n",
       "      <td>cardiovascular|non-operative procedures|diagno...</td>\n",
       "      <td>False</td>\n",
       "    </tr>\n",
       "    <tr>\n",
       "      <th>4</th>\n",
       "      <td>9334096</td>\n",
       "      <td>242040</td>\n",
       "      <td>618</td>\n",
       "      <td>infectious diseases|medications|therapeutic an...</td>\n",
       "      <td>True</td>\n",
       "    </tr>\n",
       "  </tbody>\n",
       "</table>\n",
       "</div>"
      ],
      "text/plain": [
       "   treatmentid  patientunitstayid  treatmentoffset   \n",
       "0      8399138             242040              198  \\\n",
       "1      8626134             242040              198   \n",
       "2      8517569             242040              198   \n",
       "3      9597686             242040              616   \n",
       "4      9334096             242040              618   \n",
       "\n",
       "                                     treatmentstring  activeupondischarge  \n",
       "0  cardiovascular|hypertension|angiotensin II rec...                False  \n",
       "1  cardiovascular|myocardial ischemia / infarctio...                False  \n",
       "2  infectious diseases|medications|therapeutic an...                False  \n",
       "3  cardiovascular|non-operative procedures|diagno...                False  \n",
       "4  infectious diseases|medications|therapeutic an...                 True  "
      ]
     },
     "execution_count": 18,
     "metadata": {},
     "output_type": "execute_result"
    }
   ],
   "source": [
    "treatment.head()"
   ]
  },
  {
   "attachments": {},
   "cell_type": "markdown",
   "metadata": {},
   "source": [
    "### How process_eicu.py processes a patient data?\n",
    "> The code processes four csv files: admissionDx, diagnosis, patient and treatment. \n",
    ">\n",
    "> The code repeatedly updates the encounter dictionary which contains the customized Encounter class that holds all information about each encounter."
   ]
  },
  {
   "attachments": {},
   "cell_type": "markdown",
   "metadata": {},
   "source": [
    "First, the code reads the patient.csv file and gets information about the patient and hospital admission time."
   ]
  },
  {
   "cell_type": "code",
   "execution_count": 19,
   "metadata": {},
   "outputs": [],
   "source": [
    "# process patient.csv\n",
    "patient_dict = {}\n",
    "for idx in range(patient.shape[0]):\n",
    "    patient_id = patient.iloc[idx]['patienthealthsystemstayid']\n",
    "    encounter_id = patient.iloc[idx]['patientunitstayid']\n",
    "    encounter_timestamp = -int(patient.iloc[idx]['hospitaladmitoffset'])\n",
    "    \n",
    "    if patient_id not in patient_dict: # aggregates patient encounter information in dictionary\n",
    "        patient_dict[patient_id] = []\n",
    "    patient_dict[patient_id].append((encounter_timestamp, encounter_id))"
   ]
  },
  {
   "cell_type": "code",
   "execution_count": 20,
   "metadata": {},
   "outputs": [
    {
     "data": {
      "text/plain": [
       "[(128919, [(0, 141168)]), (128927, [(14, 141178), (22, 141179)])]"
      ]
     },
     "execution_count": 20,
     "metadata": {},
     "output_type": "execute_result"
    }
   ],
   "source": [
    "list(patient_dict.items())[:2] # This is the sample of patient_dict \n",
    "# key = patient_id\n",
    "# value = encounter list\n",
    "# eg. (patient_id, [(encounter_offset, encounter_id)])"
   ]
  },
  {
   "attachments": {},
   "cell_type": "markdown",
   "metadata": {},
   "source": [
    "```patient_dict_sorted```: this dictionary contains the ordered encounter list per patient\n",
    "\n",
    "```enc_readmission_dict```: this dictionary has readmission encounter IDs"
   ]
  },
  {
   "cell_type": "code",
   "execution_count": 21,
   "metadata": {},
   "outputs": [],
   "source": [
    "patient_dict_sorted = {}\n",
    "for patient_id, time_enc_tuples in patient_dict.items():\n",
    "    patient_dict_sorted[patient_id] = sorted(time_enc_tuples) # per patient, sort the encounter list by encounter offset in ascending order\n",
    "\n",
    "enc_readmission_dict = {}\n",
    "for patient_id, time_enc_tuples in patient_dict_sorted.items():\n",
    "    for time_enc_tuple in time_enc_tuples[:-1]: # iter except the last encounter\n",
    "        enc_id = time_enc_tuple[1]\n",
    "        enc_readmission_dict[enc_id] = True # Keep the encounter id in enc_readmission_dict\n",
    "    last_enc_id = time_enc_tuples[-1][1] # Keep the last encounter id\n",
    "    enc_readmission_dict[last_enc_id] = False # if the readmission encounter id == first admission id, then set readmission as false"
   ]
  },
  {
   "attachments": {},
   "cell_type": "markdown",
   "metadata": {},
   "source": [
    "Then Update EncounterInfo data"
   ]
  },
  {
   "cell_type": "code",
   "execution_count": 22,
   "metadata": {},
   "outputs": [],
   "source": [
    "# Define encounter data structure\n",
    "class EncounterInfo:\n",
    "    def __init__(self, patient_id, encounter_id,\n",
    "                 encounter_timestamp, expired, readmission):\n",
    "        self.patient_id = patient_id\n",
    "        self.encounter_id = encounter_id\n",
    "        self.encounter_timestamp = encounter_timestamp\n",
    "        self.expired = expired\n",
    "        self.readmission = readmission\n",
    "        self.dx_ids = []\n",
    "        self.rx_ids = []\n",
    "        self.labs = {}\n",
    "        # self.physicals = []\n",
    "        self.treatments = []"
   ]
  },
  {
   "cell_type": "code",
   "execution_count": 23,
   "metadata": {},
   "outputs": [],
   "source": [
    "count = 0\n",
    "encounter_dict = {}\n",
    "for idx in range(patient.shape[0]):\n",
    "    \n",
    "    patient_id = patient.iloc[idx]['patienthealthsystemstayid']\n",
    "    encounter_id = patient.iloc[idx]['patientunitstayid']\n",
    "    encounter_timestamp = patient.iloc[idx]['hospitaladmitoffset']\n",
    "\n",
    "    discharge_status = patient.iloc[idx]['unitdischargestatus'] ## discharge info\n",
    "    duration_minute = float(patient.iloc[idx]['unitdischargeoffset'])\n",
    "    if discharge_status == 'Expired':\n",
    "        expired = True \n",
    "    else:\n",
    "        expired = False\n",
    "    \n",
    "    readmission = enc_readmission_dict[encounter_id] ## get readmission info\n",
    "    \n",
    "    # The training data only includes the encounters shorter than 24 hours and eliminates duplicated medical codes.\n",
    "    # Moreover, it excludes lab results since they are subject to change over time in the ICU\n",
    "    if duration_minute > 60. * 24: # if discharged offset is longer than 24 mins\n",
    "        continue\n",
    "    ei = EncounterInfo(patient_id, encounter_id, encounter_timestamp, expired, readmission)\n",
    "    if encounter_id in encounter_dict:\n",
    "        print('duplicate encounter id! skip')\n",
    "    else:\n",
    "        encounter_dict[encounter_id] = ei\n",
    "        count += 1"
   ]
  },
  {
   "attachments": {},
   "cell_type": "markdown",
   "metadata": {},
   "source": [
    "Second, the code reads the admissionDx.csv file and gets information about the patient and admission information"
   ]
  },
  {
   "cell_type": "code",
   "execution_count": 24,
   "metadata": {},
   "outputs": [
    {
     "name": "stdout",
     "output_type": "stream",
     "text": [
      "\n",
      "Admission Diagnosis without encounter id: 450589\n"
     ]
    }
   ],
   "source": [
    "missing_eid = 0\n",
    "for idx in range(admission.shape[0]):\n",
    "    encounter_id = admission.iloc[idx]['patientunitstayid']\n",
    "    dx_id = admission.iloc[idx]['admitdxpath'].lower() # updates admissionDxpath\n",
    "    if encounter_id not in encounter_dict:\n",
    "        missing_eid += 1\n",
    "        continue\n",
    "    encounter_dict[encounter_id].dx_ids.append(dx_id)\n",
    "    count += 1\n",
    "print('')\n",
    "print('Admission Diagnosis without encounter id: {}'.format(missing_eid))"
   ]
  },
  {
   "attachments": {},
   "cell_type": "markdown",
   "metadata": {},
   "source": [
    "Third, the code reads the diagnosis.csv file and gets information about diagnosis at each encounter"
   ]
  },
  {
   "cell_type": "code",
   "execution_count": 25,
   "metadata": {},
   "outputs": [
    {
     "name": "stdout",
     "output_type": "stream",
     "text": [
      "Diagnosis without encounter id: 2483092\n"
     ]
    }
   ],
   "source": [
    "\n",
    "count = 0\n",
    "missing_eid = 0\n",
    "for idx in range(diagnosis.shape[0]):\n",
    "    encounter_id = diagnosis.iloc[idx]['patientunitstayid']\n",
    "    dx_id = diagnosis.iloc[idx]['diagnosisstring'].lower() # updates diagnosis\n",
    "    if encounter_id not in encounter_dict:\n",
    "        missing_eid += 1\n",
    "        continue\n",
    "    encounter_dict[encounter_id].dx_ids.append(dx_id)\n",
    "    count += 1\n",
    "print('Diagnosis without encounter id: {}'.format(missing_eid))"
   ]
  },
  {
   "attachments": {},
   "cell_type": "markdown",
   "metadata": {},
   "source": [
    "Finally, the code reads treatment.csv to get information about the treatment."
   ]
  },
  {
   "cell_type": "code",
   "execution_count": 26,
   "metadata": {},
   "outputs": [
    {
     "name": "stdout",
     "output_type": "stream",
     "text": [
      "Treatment without encounter id: 3372000\n",
      "accepted treatment: 316745\n"
     ]
    }
   ],
   "source": [
    "count = 0\n",
    "missing_eid = 0\n",
    "for idx in range(treatment.shape[0]):\n",
    "    encounter_id = treatment.iloc[idx]['patientunitstayid']\n",
    "    treatment_id = treatment.iloc[idx]['treatmentstring'].lower()\n",
    "    if encounter_id not in encounter_dict:\n",
    "        missing_eid += 1\n",
    "        continue\n",
    "    encounter_dict[encounter_id].treatments.append(treatment_id)\n",
    "    count += 1\n",
    "print('Treatment without encounter id: {}'.format(missing_eid))\n",
    "print('accepted treatment: {}'.format(count))"
   ]
  },
  {
   "attachments": {},
   "cell_type": "markdown",
   "metadata": {},
   "source": [
    "Then the script creates EncounterFeatures class and updates information accordingly."
   ]
  },
  {
   "attachments": {},
   "cell_type": "markdown",
   "metadata": {},
   "source": [
    "> The original TensorFlow implementation serialized ```dx_ints``` and ```proc_ints``` as variable length sequences. \n",
    ">\n",
    "> These sequences were later converted to SparseTensors upon retrieval and to dense tensors during the lookup process for retrieving the embeddings. \n",
    ">\n",
    "> The shape of the tensors was determined using ```max_num_codes``` and ```vocab_sizes```.\n",
    ">\n",
    "> In contrast, here the script stores these variables with the proper shape, eliminating the need for reshaping during the embedding lookup process."
   ]
  },
  {
   "cell_type": "code",
   "execution_count": 27,
   "metadata": {},
   "outputs": [],
   "source": [
    "class EncounterFeatures:\n",
    "    def __init__(self, patient_id, label_expired, label_readmission, dx_ids, dx_ints, proc_ids, proc_ints):\n",
    "        self.patient_id = patient_id\n",
    "        self.label_expired = label_expired\n",
    "        self.label_readmission = label_readmission\n",
    "        self.dx_ids = dx_ids\n",
    "        self.dx_ints = dx_ints\n",
    "        self.proc_ids = proc_ids\n",
    "        self.proc_ints = proc_ints\n",
    "        self.prior_indices = None\n",
    "        self.prior_values = None\n",
    "        self.dx_mask = None\n",
    "        self.proc_mask = None"
   ]
  },
  {
   "cell_type": "code",
   "execution_count": 28,
   "metadata": {},
   "outputs": [],
   "source": [
    "def get_encounter_features(encounter_dict, skip_duplicate=False, min_num_codes=1, max_num_codes=50):\n",
    "    key_list = [] # patient ID (patientID + encounterID)\n",
    "    enc_features_list = [] # encounter infos\n",
    "    dx_str2int = {}\n",
    "    treat_str2int = {}\n",
    "\n",
    "    num_cut = 0\n",
    "    num_duplicate = 0\n",
    "    count = 0\n",
    "\n",
    "    num_dx_ids = 0\n",
    "    num_treatments = 0\n",
    "    num_unique_dx_ids = 0\n",
    "    num_unique_treatments = 0\n",
    "\n",
    "    min_dx_cut = 0\n",
    "    min_treatment_cut = 0\n",
    "\n",
    "    max_dx_cut = 0\n",
    "    max_treatment_cut = 0\n",
    "\n",
    "    num_expired = 0\n",
    "    num_readmission = 0\n",
    "\n",
    "    for _, enc in encounter_dict.items():\n",
    "        if skip_duplicate:\n",
    "            if (len(enc.dx_ids) > len(set(enc.dx_ids)) or len(enc.treatments) > len(set(enc.treatments))):\n",
    "                # If there are duplicated diagnosis IDs and Treatments\n",
    "                num_duplicate += 1\n",
    "                continue\n",
    "        if len(set(enc.dx_ids)) < min_num_codes: # check if diagnosis IDs are less than minium # of codes\n",
    "            min_dx_cut += 1\n",
    "            continue\n",
    "        if len(set(enc.treatments)) < min_num_codes: # check if treatments are less than minium # of codes\n",
    "            min_treatment_cut += 1\n",
    "            continue\n",
    "        if len(set(enc.dx_ids)) > max_num_codes: # check if diagnosis IDs are more than maximum # of codes\n",
    "            max_dx_cut += 1\n",
    "            continue\n",
    "        if len(set(enc.treatments)) > max_num_codes: # check if treatments are more than maximum # of codes\n",
    "            max_treatment_cut += 1\n",
    "            continue\n",
    "\n",
    "        # store the count values\n",
    "        count += 1\n",
    "        num_dx_ids += len(enc.dx_ids)\n",
    "        num_treatments += len(enc.treatments)\n",
    "        num_unique_dx_ids += len(set(enc.dx_ids))\n",
    "        num_unique_treatments += len(set(enc.treatments))\n",
    "\n",
    "        for dx_id in enc.dx_ids:\n",
    "            if dx_id not in dx_str2int:\n",
    "                dx_str2int[dx_id] = len(dx_str2int) # encode string diagnosis ID as int value by incrementing the count value\n",
    "        for treat_id in enc.treatments:\n",
    "            if treat_id not in treat_str2int:\n",
    "                treat_str2int[treat_id] = len(treat_str2int) # encode string treatment as int value by incrementing the count value\n",
    "\n",
    "        patient_id = str(enc.patient_id) + ':' + str(enc.encounter_id) # concatenate patient ID + encounter ID\n",
    "        if enc.expired:\n",
    "            label_expired = 1\n",
    "            num_expired += 1\n",
    "        else:\n",
    "            label_expired = 0\n",
    "        if enc.readmission:\n",
    "            label_readmission = 1\n",
    "            num_readmission += 1\n",
    "        else:\n",
    "            label_readmission = 0\n",
    "\n",
    "        # sort the dictionaries\n",
    "        dx_ids = sorted(list(set(enc.dx_ids)))\n",
    "        dx_ints = [dx_str2int[item] for item in dx_ids]\n",
    "        proc_ids = sorted(list(set(enc.treatments)))\n",
    "        proc_ints = [treat_str2int[item] for item in proc_ids]\n",
    "\n",
    "        # update values in EncounterFeatures class\n",
    "        enc_features = EncounterFeatures(patient_id, label_expired, label_readmission, dx_ids, dx_ints, proc_ids,\n",
    "                                         proc_ints)\n",
    "\n",
    "        # Store the data\n",
    "        key_list.append(patient_id)\n",
    "        enc_features_list.append(enc_features)\n",
    "\n",
    "    # pad the EncounterFeatures to produce the max_num_codes size\n",
    "    for ef in enc_features_list:\n",
    "        dx_padding_idx = len(dx_str2int)\n",
    "        proc_padding_idx = len(treat_str2int)\n",
    "        if len(ef.dx_ints) < max_num_codes:\n",
    "            ef.dx_ints.extend([dx_padding_idx] * (max_num_codes - len(ef.dx_ints)))\n",
    "        if len(ef.proc_ints) < max_num_codes:\n",
    "            ef.proc_ints.extend([proc_padding_idx] * (max_num_codes - len(ef.proc_ints)))\n",
    "        ef.dx_mask = [0 if i == dx_padding_idx else 1 for i in ef.dx_ints]\n",
    "        ef.proc_mask = [0 if i == proc_padding_idx else 1 for i in ef.proc_ints]\n",
    "\n",
    "    print('Filtered encounters due to duplicate codes: %d' % num_duplicate)\n",
    "    print('Filtered encounters due to thresholding: %d' % num_cut)\n",
    "    print('Average num_dx_ids: %f' % (num_dx_ids / count))\n",
    "    print('Average num_treatments: %f' % (num_treatments / count))\n",
    "    print('Average num_unique_dx_ids: %f' % (num_unique_dx_ids / count))\n",
    "    print('Average num_unique_treatments: %f' % (num_unique_treatments / count))\n",
    "    print('Min dx cut: %d' % min_dx_cut)\n",
    "    print('Min treatment cut: %d' % min_treatment_cut)\n",
    "    print('Max dx cut: %d' % max_dx_cut)\n",
    "    print('Max treatment cut: %d' % max_treatment_cut)\n",
    "    print('Number of expired: %d' % num_expired)\n",
    "    print('Number of readmission: %d' % num_readmission)\n",
    "\n",
    "    return key_list, enc_features_list, dx_str2int, treat_str2int"
   ]
  },
  {
   "attachments": {},
   "cell_type": "markdown",
   "metadata": {},
   "source": [
    "This time, we introduce two functions: ```count_conditional_prob_dp()``` and ```add_sparse_prior_guide_dp()```\n",
    "\n",
    "These functions are the proposed unique techniques that enhance the power of the graph convolutional transformer model which utilizes the self-attention to handle incomplete structure information of EHR data.  "
   ]
  },
  {
   "cell_type": "code",
   "execution_count": 29,
   "metadata": {},
   "outputs": [],
   "source": [
    "def count_conditional_prob_dp(enc_features_list, output_path, train_key_set=None):\n",
    "    # Keep the frequency values of admissions, treatments and diagnosis+treatments\n",
    "    dx_freqs = {}\n",
    "    proc_freqs = {}\n",
    "    dp_freqs = {}\n",
    "\n",
    "    total_visit = 0\n",
    "\n",
    "    for enc_feature in enc_features_list:\n",
    "        key = enc_feature.patient_id\n",
    "        if (train_key_set is not None and key not in train_key_set):\n",
    "            total_visit += 1\n",
    "            continue\n",
    "        dx_ids = enc_feature.dx_ids\n",
    "        proc_ids = enc_feature.proc_ids\n",
    "        for dx in dx_ids:\n",
    "            if dx not in dx_freqs:\n",
    "                dx_freqs[dx] = 0\n",
    "            dx_freqs[dx] += 1  # Increment the frequency value o given diagnosis ID\n",
    "        for proc in proc_ids:\n",
    "            if proc not in proc_freqs:\n",
    "                proc_freqs[proc] = 0\n",
    "            proc_freqs[proc] += 1 # Increment the frequency value of given treatment ID\n",
    "        for dx in dx_ids:\n",
    "            for proc in proc_ids:\n",
    "                dp = dx + ',' + proc # Concat diagnosis ID + treatment ID\n",
    "                if dp not in dp_freqs:\n",
    "                    dp_freqs[dp] = 0\n",
    "                dp_freqs[dp] += 1 # Increment the frequency value of diagnosis ID + treatment ID\n",
    "        total_visit += 1\n",
    "\n",
    "    # Calculate the probability based on the frequency values\n",
    "    dx_probs = dict([(k, v / float(total_visit)) for k, v in dx_freqs.items()])\n",
    "    proc_probs = dict([ (k, v / float(total_visit)) for k, v in proc_freqs.items() ])\n",
    "    dp_probs = dict([(k, v / float(total_visit)) for k, v in dp_freqs.items() ])\n",
    "\n",
    "    # Calculate the conditional probabilities\n",
    "    dp_cond_probs = {} # p(d|m) d - diagnosis, m - treatment\n",
    "    pd_cond_probs = {} # p(m|d)\n",
    "    for dx, dx_prob in dx_probs.items():\n",
    "        for proc, proc_prob in proc_probs.items():\n",
    "            dp = dx + ',' + proc # Concat diagnosis ID + treatment ID\n",
    "            pd = proc + ',' + dx # Concat treatment ID + diagnosis ID\n",
    "            if dp in dp_probs:\n",
    "                dp_cond_probs[dp] = dp_probs[dp] / dx_prob # p(m|d) conditioned on diagnosis\n",
    "                pd_cond_probs[pd] = dp_probs[dp] / proc_prob # p(d|m) conditioned on treatment\n",
    "            else:\n",
    "                dp_cond_probs[dp] = 0.0\n",
    "                pd_cond_probs[pd] = 0.0\n",
    "    \n",
    "    # return only conditional probabilities: dp_cond_probs, pd_cond_probs (Originally all probabilities were exported)\n",
    "    pickle.dump(dp_cond_probs, open(os.path.join(output_path, 'dp_cond_probs.empirical.p'), 'wb'))\n",
    "    pickle.dump(pd_cond_probs, open(os.path.join(output_path, 'pd_cond_probs.empirical.p'), 'wb'))"
   ]
  },
  {
   "cell_type": "code",
   "execution_count": 30,
   "metadata": {},
   "outputs": [],
   "source": [
    "def add_sparse_prior_guide_dp(enc_features_list, stats_path, key_set=None, max_num_codes=50):\n",
    "    # Load the conditional probabilities\n",
    "    dp_cond_probs = pickle.load(open(os.path.join(stats_path, 'dp_cond_probs.empirical.p'), 'rb'))\n",
    "    pd_cond_probs = pickle.load(open(os.path.join(stats_path, 'pd_cond_probs.empirical.p'), 'rb'))\n",
    "\n",
    "    total_visit = 0\n",
    "    new_enc_features_list = []\n",
    "    for enc_features in enc_features_list: # Read EncounterFeature instances\n",
    "        key = enc_features.patient_id # Count the total number of patient + encounter\n",
    "        if (key_set is not None and key not in key_set):\n",
    "            total_visit += 1\n",
    "            continue\n",
    "\n",
    "        dx_ids = enc_features.dx_ids\n",
    "        proc_ids = enc_features.proc_ids\n",
    "        indices = []\n",
    "        values = []\n",
    "\n",
    "        for i, dx in enumerate(dx_ids): # Iterate over diagnosis -> treatment\n",
    "            for j, proc in enumerate(proc_ids):\n",
    "                dp = dx + ',' + proc # Concat diagnosis + treatment ID\n",
    "                indices.append((i, max_num_codes + j))\n",
    "                prob = 0.0 if dp not in dp_cond_probs else dp_cond_probs[dp]\n",
    "                values.append(prob) # p(m|d) conditioned on diagnosis\n",
    "\n",
    "        for i, proc in enumerate(proc_ids): # Iterate over treatment -> diagnosis\n",
    "            for j, dx in enumerate(dx_ids):\n",
    "                pd = proc + ',' + dx # Concat treatment + diagnosis ID\n",
    "                indices.append((max_num_codes + i, j))\n",
    "                prob = 0.0 if pd not in pd_cond_probs else pd_cond_probs[pd]\n",
    "                values.append(prob) # p(d|m) conditioned on treatment\n",
    "\n",
    "        enc_features.prior_indices = indices\n",
    "        enc_features.prior_values = values\n",
    "        new_enc_features_list.append(enc_features)\n",
    "\n",
    "        total_visit += 1\n",
    "    return new_enc_features_list\n"
   ]
  },
  {
   "cell_type": "code",
   "execution_count": 31,
   "metadata": {},
   "outputs": [],
   "source": [
    "# Auxiliary function\n",
    "def get_prior_guide(enc_features):\n",
    "    import torch\n",
    "    prior_guide_list = []\n",
    "    for feats in enc_features:\n",
    "        indices = torch.tensor(list(zip(*feats.prior_indices))).reshape(2, -1)\n",
    "        values = torch.tensor(feats.prior_values)\n",
    "        prior_guide_list.append((indices, values))\n",
    "    return prior_guide_list"
   ]
  },
  {
   "attachments": {},
   "cell_type": "markdown",
   "metadata": {},
   "source": [
    "Now, we define the ```convert_features_to_tensors()```"
   ]
  },
  {
   "cell_type": "code",
   "execution_count": 32,
   "metadata": {},
   "outputs": [],
   "source": [
    "from torch.utils.data import TensorDataset\n",
    "import torch\n",
    "\n",
    "def convert_features_to_tensors(enc_features):\n",
    "    # all_patient_ids = torch.tensor([f.patient_id for f in enc_features], dtype=torch.long)\n",
    "    all_readmission_labels = torch.tensor([f.label_readmission for f in enc_features], dtype=torch.long)\n",
    "    all_expired_labels = torch.tensor([f.label_expired for f in enc_features], dtype=torch.long)\n",
    "    all_dx_ints = torch.tensor([f.dx_ints for f in enc_features], dtype=torch.long)\n",
    "    all_proc_ints = torch.tensor([f.proc_ints for f in enc_features], dtype=torch.long)\n",
    "    # all_prior_indices = torch.tensor([f.prior_indices for f in enc_features], dtype=torch.long)\n",
    "    # all_prior_values = torch.tensor([f.prior_values for f in enc_features], dtype=torch.float)\n",
    "    all_dx_masks = torch.tensor([f.dx_mask for f in enc_features], dtype=torch.float)\n",
    "    all_proc_masks = torch.tensor([f.proc_mask for f in enc_features], dtype=torch.float)\n",
    "    dataset = TensorDataset(all_dx_ints, all_proc_ints, all_dx_masks, all_proc_masks, all_readmission_labels, all_expired_labels)\n",
    "\n",
    "    return dataset"
   ]
  },
  {
   "attachments": {},
   "cell_type": "markdown",
   "metadata": {},
   "source": [
    "Finally, we divide the whole dataset into train, valid and test datset"
   ]
  },
  {
   "cell_type": "code",
   "execution_count": 33,
   "metadata": {},
   "outputs": [],
   "source": [
    "def select_train_valid_test(key_list, random_seed=1234):\n",
    "    import sklearn.model_selection as ms\n",
    "    key_train, key_temp = ms.train_test_split(key_list, test_size=0.2, random_state=random_seed)\n",
    "    key_valid, key_test = ms.train_test_split(key_temp, test_size=0.5, random_state=random_seed)\n",
    "    return key_train, key_valid, key_test"
   ]
  },
  {
   "attachments": {},
   "cell_type": "markdown",
   "metadata": {},
   "source": [
    "This is the main function in ```preprocess.py```.\n",
    "\n",
    "Unlike TensorFlow implementation, which generates 5 folds, this script generates 1 fold. \n",
    "\n",
    "There was a slight difficulty in the original code because we had to manually run 2 separate training scripts to run folds."
   ]
  },
  {
   "cell_type": "code",
   "execution_count": 34,
   "metadata": {},
   "outputs": [
    {
     "name": "stdout",
     "output_type": "stream",
     "text": [
      "128927\n",
      "141178\n",
      "-14\n",
      "False\n",
      "True\n",
      "[]\n",
      "[]\n",
      "{}\n",
      "[]\n"
     ]
    }
   ],
   "source": [
    "# A sample of an Encounter data:\n",
    "sample_encounter = encounter_dict[141178]\n",
    "print(sample_encounter.patient_id)\n",
    "print(sample_encounter.encounter_id)\n",
    "print(sample_encounter.encounter_timestamp)\n",
    "print(sample_encounter.expired)\n",
    "print(sample_encounter.readmission)\n",
    "print(sample_encounter.dx_ids)\n",
    "print(sample_encounter.rx_ids)\n",
    "print(sample_encounter.labs)\n",
    "print(sample_encounter.treatments)"
   ]
  },
  {
   "cell_type": "code",
   "execution_count": 36,
   "metadata": {},
   "outputs": [
    {
     "name": "stdout",
     "output_type": "stream",
     "text": [
      "Filtered encounters due to duplicate codes: 0\n",
      "Filtered encounters due to thresholding: 0\n",
      "Average num_dx_ids: 8.253912\n",
      "Average num_treatments: 7.697826\n",
      "Average num_unique_dx_ids: 6.462268\n",
      "Average num_unique_treatments: 5.026276\n",
      "Min dx cut: 16670\n",
      "Min treatment cut: 10373\n",
      "Max dx cut: 1\n",
      "Max treatment cut: 6\n",
      "Number of expired: 2983\n",
      "Number of readmission: 7051\n"
     ]
    }
   ],
   "source": [
    "fold = 0\n",
    "data_dir = \"data\"\n",
    "fold_path = os.path.join(data_dir, 'fold_{}'.format(fold))\n",
    "if not os.path.exists(fold_path):\n",
    "    os.makedirs(fold_path)\n",
    "stats_path = os.path.join(fold_path, 'train_stats')\n",
    "if not os.path.exists(stats_path):\n",
    "    os.makedirs(stats_path)\n",
    "cached_path = os.path.join(fold_path, 'cached')\n",
    "\n",
    "key_list, enc_features_list, dx_map, proc_map = get_encounter_features(encounter_dict, skip_duplicate=False,\n",
    "                                                                               min_num_codes=1, max_num_codes=50)\n",
    "pickle.dump(dx_map, open(os.path.join(fold_path, 'dx_map.p'), 'wb'))\n",
    "pickle.dump(proc_map, open(os.path.join(fold_path, 'proc_map.p'), 'wb'))\n",
    "\n",
    "key_train, key_valid, key_test = select_train_valid_test(key_list, random_seed=fold)\n",
    "count_conditional_prob_dp(enc_features_list, stats_path, set(key_train))\n",
    "train_enc_features = add_sparse_prior_guide_dp(enc_features_list, stats_path, set(key_train), max_num_codes=50)\n",
    "validation_enc_features = add_sparse_prior_guide_dp(enc_features_list, stats_path, set(key_valid),\n",
    "                                                    max_num_codes=50)\n",
    "test_enc_features = add_sparse_prior_guide_dp(enc_features_list, stats_path, set(key_test), max_num_codes=50)\n",
    "\n",
    "train_dataset = convert_features_to_tensors(train_enc_features)\n",
    "validation_dataset = convert_features_to_tensors(validation_enc_features)\n",
    "test_dataset = convert_features_to_tensors(test_enc_features)\n",
    "\n",
    "torch.save(train_dataset, os.path.join(cached_path, 'train_dataset.pt'))\n",
    "torch.save(validation_dataset, os.path.join(cached_path, 'valid_dataset.pt'))\n",
    "torch.save(test_dataset, os.path.join(cached_path, 'test_dataset.pt'))\n",
    "\n",
    "## get prior_indices and prior_values for each split and save as list of tensors\n",
    "train_prior_guide = get_prior_guide(train_enc_features)\n",
    "validation_prior_guide = get_prior_guide(validation_enc_features)\n",
    "test_prior_guide = get_prior_guide(test_enc_features)"
   ]
  },
  {
   "cell_type": "code",
   "execution_count": null,
   "metadata": {},
   "outputs": [],
   "source": [
    "# save the prior_indices and prior_values\n",
    "torch.save(train_prior_guide, os.path.join(cached_path, 'train_priors.pt'))\n",
    "torch.save(validation_prior_guide, os.path.join(cached_path, 'valid_priors.pt'))\n",
    "torch.save(test_prior_guide, os.path.join(cached_path, 'test_priors.pt'))"
   ]
  },
  {
   "cell_type": "code",
   "execution_count": null,
   "metadata": {},
   "outputs": [],
   "source": []
  }
 ],
 "metadata": {
  "kernelspec": {
   "display_name": "Python 3.9.6 64-bit",
   "language": "python",
   "name": "python3"
  },
  "language_info": {
   "codemirror_mode": {
    "name": "ipython",
    "version": 3
   },
   "file_extension": ".py",
   "mimetype": "text/x-python",
   "name": "python",
   "nbconvert_exporter": "python",
   "pygments_lexer": "ipython3",
   "version": "3.9.6"
  },
  "orig_nbformat": 4,
  "vscode": {
   "interpreter": {
    "hash": "31f2aee4e71d21fbe5cf8b01ff0e069b9275f58929596ceb00d14d90e3e16cd6"
   }
  }
 },
 "nbformat": 4,
 "nbformat_minor": 2
}
