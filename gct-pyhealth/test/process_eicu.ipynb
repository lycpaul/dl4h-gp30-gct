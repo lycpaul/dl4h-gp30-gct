{
 "cells": [
  {
   "cell_type": "code",
   "execution_count": null,
   "outputs": [],
   "source": [
    "import csv\n",
    "import os\n",
    "import pickle\n",
    "import sys\n",
    "import time\n",
    "\n",
    "import sklearn.model_selection as ms\n",
    "import torch\n",
    "from torch.utils.data import TensorDataset\n",
    "from tqdm import tqdm"
   ],
   "metadata": {
    "collapsed": false,
    "ExecuteTime": {
     "start_time": "2023-04-22T23:27:04.381155Z",
     "end_time": "2023-04-22T23:27:05.093263Z"
    }
   }
  },
  {
   "cell_type": "code",
   "execution_count": null,
   "outputs": [],
   "source": [
    "import pyhealth\n",
    "from pyhealth.data import Event, Visit, Patient\n",
    "\n",
    "import numpy as np\n",
    "\n",
    "np.random.seed(1234)"
   ],
   "metadata": {
    "collapsed": false,
    "ExecuteTime": {
     "start_time": "2023-04-22T23:27:05.094034Z",
     "end_time": "2023-04-22T23:27:05.134894Z"
    }
   }
  },
  {
   "cell_type": "code",
   "execution_count": null,
   "outputs": [],
   "source": [
    "from pyhealth.datasets import eICUDataset\n",
    "\n",
    "dataset_const = eICUDataset(\n",
    "    root='../../eicu_csv',\n",
    "    tables=[\"diagnosis\", \"treatment\", \"admissionDx\"],\n",
    "    refresh_cache=False,\n",
    "    dev=True\n",
    ")\n",
    "\n",
    "dataset = eICUDataset(\n",
    "    root='../../eicu_csv',\n",
    "    tables=[\"diagnosis\", \"treatment\", \"admissionDx\"],\n",
    "    refresh_cache=False,\n",
    "    dev=True\n",
    ")"
   ],
   "metadata": {
    "collapsed": false,
    "ExecuteTime": {
     "start_time": "2023-04-22T23:27:05.134489Z",
     "end_time": "2023-04-22T23:27:06.186803Z"
    }
   }
  },
  {
   "cell_type": "code",
   "execution_count": null,
   "outputs": [],
   "source": [
    "dataset.stat()\n",
    "dataset.info()"
   ],
   "metadata": {
    "collapsed": false,
    "ExecuteTime": {
     "start_time": "2023-04-22T23:27:06.192669Z",
     "end_time": "2023-04-22T23:27:06.230903Z"
    }
   }
  },
  {
   "cell_type": "code",
   "execution_count": null,
   "outputs": [],
   "source": [
    "dataset.patients.values()"
   ],
   "metadata": {
    "collapsed": false,
    "ExecuteTime": {
     "start_time": "2023-04-22T23:27:06.218359Z",
     "end_time": "2023-04-22T23:27:06.239898Z"
    }
   }
  },
  {
   "cell_type": "code",
   "execution_count": null,
   "outputs": [],
   "source": [
    "patient_id = '002-9990+146474'\n",
    "patient = dataset.patients[patient_id]\n",
    "visits = dataset.patients[patient_id].visits\n",
    "visits"
   ],
   "metadata": {
    "collapsed": false,
    "ExecuteTime": {
     "start_time": "2023-04-22T23:27:06.232895Z",
     "end_time": "2023-04-22T23:27:06.240101Z"
    }
   }
  },
  {
   "cell_type": "code",
   "execution_count": null,
   "outputs": [],
   "source": [
    "visit_id = '163891'\n",
    "dir(visits[visit_id])"
   ],
   "metadata": {
    "collapsed": false,
    "ExecuteTime": {
     "start_time": "2023-04-22T23:27:06.236087Z",
     "end_time": "2023-04-22T23:27:06.240242Z"
    }
   }
  },
  {
   "cell_type": "code",
   "execution_count": null,
   "outputs": [],
   "source": [
    "visit = visits[visit_id]\n",
    "print(\"### Accessing the diagnosis events ###\")\n",
    "print(visit.get_event_list('diagnosis'))\n",
    "visit.get_code_list('diagnosis')\n",
    "\n",
    "print(\"### Accessing the admissionDx events ###\")\n",
    "print(visit.get_event_list('admissionDx'))\n",
    "\n",
    "print(\"### Accessing the treatment events ###\")\n",
    "print(visit.get_event_list('treatment'))"
   ],
   "metadata": {
    "collapsed": false,
    "ExecuteTime": {
     "start_time": "2023-04-22T23:27:06.239506Z",
     "end_time": "2023-04-22T23:27:06.243412Z"
    }
   }
  },
  {
   "cell_type": "code",
   "execution_count": null,
   "outputs": [],
   "source": [
    "# Dropping patient with less than 24 hours duration minute\n",
    "# should be stated in the data entry 'unitdischargeoffset'\n",
    "# aka visit.discharge_time - visit.encounter_time\n",
    "def process_patient(ds, hour_threshold=24):\n",
    "    dataset_processed = ds\n",
    "    encounter_processed_count = 0\n",
    "    encounter_deleted_count = 0\n",
    "\n",
    "    for patient_id, patient in ds.patients.items():\n",
    "        visits = patient.visits.copy()\n",
    "        for visit_id, visit in visits.items():\n",
    "            encounter_processed_count += 1\n",
    "            if (visit.discharge_time - visit.encounter_time) < np.timedelta64(hour_threshold, 'h'):\n",
    "                # print(\"Dropping patient {} visit {} due to less than {} hours duration\".format(patient_id, visit_id, hour_threshold))\n",
    "                encounter_deleted_count += 1\n",
    "                del dataset_processed.patients[patient_id].visits[visit_id]\n",
    "\n",
    "    print(\"Processed {} encounters, deleted {} encounters\".format(encounter_processed_count, encounter_deleted_count))\n",
    "    return dataset_processed\n",
    "\n",
    "\n",
    "# Processed 200859 encounters, deleted 67959 encounters\n",
    "dataset_processed = process_patient(dataset)\n"
   ],
   "metadata": {
    "collapsed": false,
    "ExecuteTime": {
     "start_time": "2023-04-22T23:27:06.242615Z",
     "end_time": "2023-04-22T23:27:06.334386Z"
    }
   }
  },
  {
   "cell_type": "code",
   "execution_count": null,
   "outputs": [],
   "source": [
    "# readmission prediction\n",
    "from pyhealth.tasks import readmission_prediction_eicu_fn\n",
    "eicu_base = eICUDataset(\n",
    "    root='../../eicu_csv',\n",
    "    tables=[\"diagnosis\", \"treatment\", \"admissionDx\", \"physicalExam\", \"medication\", \"lab\"],\n",
    "    dev=True,\n",
    "    refresh_cache=False,\n",
    ")\n",
    "sample_dataset = eicu_base.set_task(task_fn=readmission_prediction_eicu_fn)"
   ],
   "metadata": {
    "collapsed": false,
    "ExecuteTime": {
     "start_time": "2023-04-22T23:27:06.285701Z",
     "end_time": "2023-04-22T23:27:12.998039Z"
    }
   }
  },
  {
   "cell_type": "code",
   "execution_count": null,
   "outputs": [],
   "source": [
    "sample_dataset.stat()\n",
    "print(sample_dataset.available_keys)\n",
    "print(sample_dataset.samples[0])"
   ],
   "metadata": {
    "collapsed": false,
    "ExecuteTime": {
     "start_time": "2023-04-22T23:27:12.998008Z",
     "end_time": "2023-04-22T23:27:13.035077Z"
    }
   }
  },
  {
   "cell_type": "code",
   "execution_count": null,
   "outputs": [],
   "source": [
    "from pyhealth.tasks import mortality_prediction_eicu_fn\n",
    "sample_dataset = eicu_base.set_task(mortality_prediction_eicu_fn)\n",
    "sample_dataset.stat()\n",
    "print(sample_dataset.available_keys)\n",
    "print(sample_dataset.samples[0])"
   ],
   "metadata": {
    "collapsed": false,
    "ExecuteTime": {
     "start_time": "2023-04-22T23:27:13.001720Z",
     "end_time": "2023-04-22T23:27:13.055252Z"
    }
   }
  },
  {
   "cell_type": "code",
   "execution_count": null,
   "outputs": [],
   "source": [
    "from load_eicu import readmission_prediction_eicu_fn_customized\n",
    "samples_list = []\n",
    "readmission_count = 0\n",
    "for patient in eicu_base.patients:\n",
    "    samples = readmission_prediction_eicu_fn_customized(eicu_base.patients[patient], 20)\n",
    "    if len(samples) != 0:\n",
    "        for sample in samples:\n",
    "            if sample['label'] == 1:\n",
    "                readmission_count += 1\n",
    "                break\n",
    "        samples_list.append(samples)\n",
    "\n",
    "print(\"Total number of patients: {}\".format(len(eicu_base.patients.keys())))\n",
    "print(\"Total number of samples: {}\".format(len(samples_list)))\n",
    "print(\"Total number of readmission: {}\".format(readmission_count))\n"
   ],
   "metadata": {
    "collapsed": false,
    "ExecuteTime": {
     "start_time": "2023-04-22T20:04:37.814165Z",
     "end_time": "2023-04-22T20:04:38.348234Z"
    }
   }
  },
  {
   "cell_type": "code",
   "execution_count": null,
   "outputs": [],
   "source": [
    "admissionDx = samples_list[42][1]['admissionDx'][0]\n",
    "conditions = samples_list[42][1]['conditions'][0]\n",
    "treatment = samples_list[42][1]['treatment'][0]\n",
    "# samples_list[42]\n",
    "[ax.lower() for ax in admissionDx]"
   ],
   "metadata": {
    "collapsed": false,
    "ExecuteTime": {
     "start_time": "2023-04-22T21:13:59.368500Z",
     "end_time": "2023-04-22T21:13:59.375354Z"
    }
   }
  },
  {
   "cell_type": "code",
   "execution_count": null,
   "outputs": [],
   "source": [
    "visit = eicu_base.patients[samples_list[42][1]['patient_id']].visits[samples_list[42][1]['visit_id']]"
   ],
   "metadata": {
    "collapsed": false,
    "ExecuteTime": {
     "start_time": "2023-04-22T21:14:46.229091Z",
     "end_time": "2023-04-22T21:14:46.235452Z"
    }
   }
  },
  {
   "cell_type": "code",
   "execution_count": null,
   "outputs": [],
   "source": [
    "visit.get_event_list('admissionDx')"
   ],
   "metadata": {
    "collapsed": false,
    "ExecuteTime": {
     "start_time": "2023-04-22T21:16:42.198351Z",
     "end_time": "2023-04-22T21:16:42.210529Z"
    }
   }
  },
  {
   "cell_type": "code",
   "execution_count": null,
   "outputs": [],
   "source": [
    "visit.get_code_list('admissionDx')"
   ],
   "metadata": {
    "collapsed": false,
    "ExecuteTime": {
     "start_time": "2023-04-22T21:16:43.438139Z",
     "end_time": "2023-04-22T21:16:43.449046Z"
    }
   }
  },
  {
   "cell_type": "code",
   "execution_count": null,
   "outputs": [],
   "source": [
    "# print the encounter id and its label in samples_list\n",
    "for sample in samples_list[42]:\n",
    "    print(sample['visit_id'], sample['label'])"
   ],
   "metadata": {
    "collapsed": false,
    "ExecuteTime": {
     "start_time": "2023-04-22T21:21:38.438431Z",
     "end_time": "2023-04-22T21:21:38.443392Z"
    }
   }
  },
  {
   "cell_type": "code",
   "execution_count": null,
   "outputs": [],
   "source": [],
   "metadata": {
    "collapsed": false,
    "ExecuteTime": {
     "start_time": "2023-04-22T20:04:38.397591Z",
     "end_time": "2023-04-22T20:04:38.401777Z"
    }
   }
  },
  {
   "cell_type": "code",
   "execution_count": null,
   "outputs": [],
   "source": [],
   "metadata": {
    "collapsed": false,
    "ExecuteTime": {
     "start_time": "2023-04-22T20:04:38.397738Z",
     "end_time": "2023-04-22T20:04:38.401859Z"
    }
   }
  },
  {
   "cell_type": "code",
   "execution_count": null,
   "outputs": [],
   "source": [],
   "metadata": {
    "collapsed": false,
    "ExecuteTime": {
     "start_time": "2023-04-22T20:04:38.397793Z",
     "end_time": "2023-04-22T20:04:38.401939Z"
    }
   }
  },
  {
   "cell_type": "code",
   "execution_count": null,
   "outputs": [],
   "source": [],
   "metadata": {
    "collapsed": false,
    "ExecuteTime": {
     "start_time": "2023-04-22T20:04:38.398067Z",
     "end_time": "2023-04-22T20:04:38.402018Z"
    }
   }
  },
  {
   "cell_type": "code",
   "execution_count": null,
   "outputs": [],
   "source": [],
   "metadata": {
    "collapsed": false,
    "ExecuteTime": {
     "start_time": "2023-04-22T20:04:38.398134Z",
     "end_time": "2023-04-22T20:04:38.402098Z"
    }
   }
  },
  {
   "cell_type": "code",
   "execution_count": null,
   "outputs": [],
   "source": [],
   "metadata": {
    "collapsed": false,
    "ExecuteTime": {
     "start_time": "2023-04-22T20:04:38.398171Z",
     "end_time": "2023-04-22T20:04:38.402188Z"
    }
   }
  }
 ],
 "metadata": {
  "kernelspec": {
   "display_name": "Python 3",
   "language": "python",
   "name": "python3"
  },
  "language_info": {
   "codemirror_mode": {
    "name": "ipython",
    "version": 2
   },
   "file_extension": ".py",
   "mimetype": "text/x-python",
   "name": "python",
   "nbconvert_exporter": "python",
   "pygments_lexer": "ipython2",
   "version": "2.7.6"
  }
 },
 "nbformat": 4,
 "nbformat_minor": 0
}
