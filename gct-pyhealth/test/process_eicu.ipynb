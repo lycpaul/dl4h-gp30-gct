{
 "cells": [
  {
   "cell_type": "code",
   "execution_count": null,
   "outputs": [],
   "source": [
    "import csv\n",
    "import os\n",
    "import pickle\n",
    "import sys\n",
    "import time\n",
    "\n",
    "import sklearn.model_selection as ms\n",
    "import torch\n",
    "from torch.utils.data import TensorDataset\n",
    "from tqdm import tqdm"
   ],
   "metadata": {
    "collapsed": false,
    "ExecuteTime": {
     "start_time": "2023-04-21T01:56:35.566399Z",
     "end_time": "2023-04-21T01:56:36.415997Z"
    }
   }
  },
  {
   "cell_type": "code",
   "execution_count": null,
   "outputs": [],
   "source": [
    "import pyhealth\n",
    "from pyhealth.data import Event, Visit, Patient\n",
    "\n",
    "import numpy as np\n",
    "\n",
    "np.random.seed(1234)"
   ],
   "metadata": {
    "collapsed": false,
    "ExecuteTime": {
     "start_time": "2023-04-21T00:28:13.910372Z",
     "end_time": "2023-04-21T00:28:13.928334Z"
    }
   }
  },
  {
   "cell_type": "code",
   "execution_count": null,
   "outputs": [],
   "source": [
    "from pyhealth.datasets import eICUDataset\n",
    "\n",
    "dataset_const = eICUDataset(\n",
    "    root='../../eicu_csv',\n",
    "    tables=[\"diagnosis\", \"treatment\", \"admissionDx\"],\n",
    "    refresh_cache=False,\n",
    "    dev=True\n",
    ")\n",
    "\n",
    "dataset = eICUDataset(\n",
    "    root='../../eicu_csv',\n",
    "    tables=[\"diagnosis\", \"treatment\", \"admissionDx\"],\n",
    "    refresh_cache=False,\n",
    "    dev=True\n",
    ")"
   ],
   "metadata": {
    "collapsed": false,
    "ExecuteTime": {
     "start_time": "2023-04-21T00:28:14.297165Z",
     "end_time": "2023-04-21T00:29:29.273913Z"
    }
   }
  },
  {
   "cell_type": "code",
   "execution_count": null,
   "outputs": [],
   "source": [
    "dataset.stat()\n",
    "dataset.info()"
   ],
   "metadata": {
    "collapsed": false,
    "ExecuteTime": {
     "start_time": "2023-04-21T00:30:15.899357Z",
     "end_time": "2023-04-21T00:30:15.942855Z"
    }
   }
  },
  {
   "cell_type": "code",
   "execution_count": null,
   "outputs": [],
   "source": [
    "dataset.patients.values()"
   ],
   "metadata": {
    "collapsed": false,
    "ExecuteTime": {
     "start_time": "2023-04-21T00:30:17.688057Z",
     "end_time": "2023-04-21T00:30:17.705115Z"
    }
   }
  },
  {
   "cell_type": "code",
   "execution_count": null,
   "outputs": [],
   "source": [
    "patient_id = '002-9990+146474'\n",
    "patient = dataset.patients[patient_id]\n",
    "visits = dataset.patients[patient_id].visits\n",
    "visits"
   ],
   "metadata": {
    "collapsed": false,
    "ExecuteTime": {
     "start_time": "2023-04-21T00:30:29.608136Z",
     "end_time": "2023-04-21T00:30:29.654733Z"
    }
   }
  },
  {
   "cell_type": "code",
   "execution_count": null,
   "outputs": [],
   "source": [
    "visit_id = '163891'\n",
    "dir(visits[visit_id])"
   ],
   "metadata": {
    "collapsed": false,
    "ExecuteTime": {
     "start_time": "2023-04-21T00:30:35.137700Z",
     "end_time": "2023-04-21T00:30:35.161126Z"
    }
   }
  },
  {
   "cell_type": "code",
   "execution_count": null,
   "outputs": [],
   "source": [
    "visit = visits[visit_id]\n",
    "print(\"### Accessing the diagnosis events ###\")\n",
    "print(visit.get_event_list('diagnosis'))\n",
    "visit.get_code_list('diagnosis')\n",
    "\n",
    "print(\"### Accessing the admissionDx events ###\")\n",
    "print(visit.get_event_list('admissionDx'))\n",
    "\n",
    "print(\"### Accessing the treatment events ###\")\n",
    "print(visit.get_event_list('treatment'))"
   ],
   "metadata": {
    "collapsed": false,
    "ExecuteTime": {
     "start_time": "2023-04-21T00:30:36.909058Z",
     "end_time": "2023-04-21T00:30:36.917758Z"
    }
   }
  },
  {
   "cell_type": "code",
   "execution_count": null,
   "outputs": [],
   "source": [
    "# Dropping patient with less than 24 hours duration minute\n",
    "# should be stated in the data entry 'unitdischargeoffset'\n",
    "# aka visit.discharge_time - visit.encounter_time\n",
    "def process_patient(ds, hour_threshold=24):\n",
    "    dataset_processed = ds\n",
    "    encounter_processed_count = 0\n",
    "    encounter_deleted_count = 0\n",
    "\n",
    "    for patient_id, patient in ds.patients.items():\n",
    "        visits = patient.visits.copy()\n",
    "        for visit_id, visit in visits.items():\n",
    "            encounter_processed_count += 1\n",
    "            if (visit.discharge_time - visit.encounter_time) < np.timedelta64(hour_threshold, 'h'):\n",
    "                # print(\"Dropping patient {} visit {} due to less than {} hours duration\".format(patient_id, visit_id, hour_threshold))\n",
    "                encounter_deleted_count += 1\n",
    "                del dataset_processed.patients[patient_id].visits[visit_id]\n",
    "\n",
    "    print(\"Processed {} encounters, deleted {} encounters\".format(encounter_processed_count, encounter_deleted_count))\n",
    "    return dataset_processed\n",
    "\n",
    "\n",
    "# Processed 200859 encounters, deleted 67959 encounters\n",
    "dataset_processed = process_patient(dataset)\n"
   ],
   "metadata": {
    "collapsed": false,
    "ExecuteTime": {
     "start_time": "2023-04-21T00:30:38.861992Z",
     "end_time": "2023-04-21T00:30:38.920874Z"
    }
   }
  },
  {
   "cell_type": "code",
   "execution_count": null,
   "outputs": [],
   "source": [
    "# readmission prediction\n",
    "from pyhealth.tasks import readmission_prediction_eicu_fn\n",
    "eicu_base = eICUDataset(\n",
    "    root='../../eicu_csv',\n",
    "    tables=[\"diagnosis\", \"medication\", \"physicalExam\"],\n",
    "    dev=True,\n",
    "    refresh_cache=False,\n",
    ")\n",
    "sample_dataset = eicu_base.set_task(task_fn=readmission_prediction_eicu_fn)"
   ],
   "metadata": {
    "collapsed": false,
    "ExecuteTime": {
     "start_time": "2023-04-21T00:51:59.558348Z",
     "end_time": "2023-04-21T00:54:57.100823Z"
    }
   }
  },
  {
   "cell_type": "code",
   "execution_count": null,
   "outputs": [],
   "source": [
    "sample_dataset.stat()\n",
    "print(sample_dataset.available_keys)\n",
    "print(sample_dataset.samples[0])"
   ],
   "metadata": {
    "collapsed": false,
    "ExecuteTime": {
     "start_time": "2023-04-21T01:21:18.663229Z",
     "end_time": "2023-04-21T01:21:18.692964Z"
    }
   }
  },
  {
   "cell_type": "code",
   "execution_count": null,
   "outputs": [],
   "source": [
    "from pyhealth.tasks import mortality_prediction_eicu_fn\n",
    "sample_dataset = eicu_base.set_task(mortality_prediction_eicu_fn)\n",
    "sample_dataset.stat()\n",
    "print(sample_dataset.available_keys)\n",
    "print(sample_dataset.samples[0])"
   ],
   "metadata": {
    "collapsed": false,
    "ExecuteTime": {
     "start_time": "2023-04-21T01:21:20.108799Z",
     "end_time": "2023-04-21T01:21:20.220677Z"
    }
   }
  },
  {
   "cell_type": "code",
   "execution_count": null,
   "outputs": [],
   "source": [],
   "metadata": {
    "collapsed": false
   }
  },
  {
   "cell_type": "code",
   "execution_count": null,
   "outputs": [],
   "source": [],
   "metadata": {
    "collapsed": false
   }
  },
  {
   "cell_type": "code",
   "execution_count": null,
   "outputs": [],
   "source": [],
   "metadata": {
    "collapsed": false,
    "ExecuteTime": {
     "start_time": "2023-04-20T22:49:06.559324Z",
     "end_time": "2023-04-20T22:49:06.599630Z"
    }
   }
  }
 ],
 "metadata": {
  "kernelspec": {
   "display_name": "Python 3",
   "language": "python",
   "name": "python3"
  },
  "language_info": {
   "codemirror_mode": {
    "name": "ipython",
    "version": 2
   },
   "file_extension": ".py",
   "mimetype": "text/x-python",
   "name": "python",
   "nbconvert_exporter": "python",
   "pygments_lexer": "ipython2",
   "version": "2.7.6"
  }
 },
 "nbformat": 4,
 "nbformat_minor": 0
}
