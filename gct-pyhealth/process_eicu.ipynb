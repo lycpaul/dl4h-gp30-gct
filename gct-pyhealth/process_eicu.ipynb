{
 "cells": [
  {
   "cell_type": "code",
   "execution_count": 2,
   "metadata": {
    "collapsed": true,
    "ExecuteTime": {
     "start_time": "2023-04-19T01:22:15.678522Z",
     "end_time": "2023-04-19T01:22:15.743331Z"
    }
   },
   "outputs": [],
   "source": [
    "import pyhealth\n",
    "from pyhealth.data import Event, Visit, Patient\n",
    "\n",
    "import numpy as np\n",
    "np.random.seed(1234)"
   ]
  },
  {
   "cell_type": "code",
   "execution_count": 3,
   "outputs": [
    {
     "name": "stdout",
     "output_type": "stream",
     "text": [
      "INFO: Pandarallel will run on 6 workers.\n",
      "INFO: Pandarallel will use Memory file system to transfer data between the main process and workers.\n"
     ]
    },
    {
     "name": "stderr",
     "output_type": "stream",
     "text": [
      "Parsing patients: 100%|██████████| 166355/166355 [01:43<00:00, 1611.49it/s]\n"
     ]
    },
    {
     "name": "stdout",
     "output_type": "stream",
     "text": [
      "finish basic patient information parsing : 105.73315930366516s\n",
      "finish parsing diagnosis : 82.47353911399841s\n",
      "finish parsing treatment : 82.55984783172607s\n",
      "finish parsing admissionDx : 30.43802237510681s\n"
     ]
    },
    {
     "name": "stderr",
     "output_type": "stream",
     "text": [
      "Mapping codes: 100%|██████████| 166355/166355 [00:04<00:00, 39016.31it/s]\n"
     ]
    }
   ],
   "source": [
    "from pyhealth.datasets import eICUDataset\n",
    "dataset = eICUDataset(\n",
    "    root='../eicu_csv',\n",
    "    tables=[\"diagnosis\", \"treatment\", \"admissionDx\"],\n",
    "    refresh_cache = False\n",
    ")"
   ],
   "metadata": {
    "collapsed": false,
    "ExecuteTime": {
     "start_time": "2023-04-19T01:22:16.690574Z",
     "end_time": "2023-04-19T01:27:54.088830Z"
    }
   }
  },
  {
   "cell_type": "code",
   "execution_count": 4,
   "outputs": [
    {
     "name": "stdout",
     "output_type": "stream",
     "text": [
      "\n",
      "Statistics of base dataset (dev=False):\n",
      "\t- Dataset: eICUDataset\n",
      "\t- Number of patients: 166355\n",
      "\t- Number of visits: 200859\n",
      "\t- Number of visits per patient: 1.2074\n",
      "\t- Number of events per visit in diagnosis: 22.6781\n",
      "\t- Number of events per visit in treatment: 18.3648\n",
      "\t- Number of events per visit in admissionDx: 3.1209\n",
      "\n",
      "\n",
      "dataset.patients: patient_id -> <Patient>\n",
      "\n",
      "<Patient>\n",
      "    - visits: visit_id -> <Visit> \n",
      "    - other patient-level info\n",
      "    \n",
      "    <Visit>\n",
      "        - event_list_dict: table_name -> List[Event]\n",
      "        - other visit-level info\n",
      "    \n",
      "        <Event>\n",
      "            - code: str\n",
      "            - other event-level info\n",
      "\n"
     ]
    }
   ],
   "source": [
    "dataset.stat()\n",
    "dataset.info()"
   ],
   "metadata": {
    "collapsed": false,
    "ExecuteTime": {
     "start_time": "2023-04-19T01:27:54.129941Z",
     "end_time": "2023-04-19T01:27:55.213163Z"
    }
   }
  }
 ],
 "metadata": {
  "kernelspec": {
   "display_name": "Python 3",
   "language": "python",
   "name": "python3"
  },
  "language_info": {
   "codemirror_mode": {
    "name": "ipython",
    "version": 2
   },
   "file_extension": ".py",
   "mimetype": "text/x-python",
   "name": "python",
   "nbconvert_exporter": "python",
   "pygments_lexer": "ipython2",
   "version": "2.7.6"
  }
 },
 "nbformat": 4,
 "nbformat_minor": 0
}
